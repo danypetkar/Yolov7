{
 "cells": [
  {
   "cell_type": "code",
   "execution_count": 1,
   "id": "d99709d6",
   "metadata": {},
   "outputs": [
    {
     "name": "stdout",
     "output_type": "stream",
     "text": [
      "Cloning into 'yolov7-pose-estimation'...\n",
      "remote: Enumerating objects: 166, done.\u001b[K\n",
      "remote: Counting objects: 100% (104/104), done.\u001b[K\n",
      "remote: Compressing objects: 100% (80/80), done.\u001b[K\n",
      "remote: Total 166 (delta 56), reused 68 (delta 24), pack-reused 62\u001b[K\n",
      "Receiving objects: 100% (166/166), 3.75 MiB | 249.00 KiB/s, done.\n",
      "Resolving deltas: 100% (63/63), done.\n"
     ]
    }
   ],
   "source": [
    "!git clone https://github.com/RizwanMunawar/yolov7-pose-estimation.git"
   ]
  },
  {
   "cell_type": "code",
   "execution_count": 2,
   "id": "c456d37a",
   "metadata": {},
   "outputs": [
    {
     "name": "stdout",
     "output_type": "stream",
     "text": [
      "/home/aarav/Project_s/Yolo_new/yolov7-pose-estimation\n"
     ]
    }
   ],
   "source": [
    "%cd yolov7-pose-estimation"
   ]
  },
  {
   "cell_type": "code",
   "execution_count": null,
   "id": "b010a2bc",
   "metadata": {},
   "outputs": [],
   "source": [
    "# https://github.com/WongKinYiu/yolov7/releases/download/v0.1/yolov7-w6-pose.pt"
   ]
  },
  {
   "cell_type": "code",
   "execution_count": 3,
   "id": "de53eb39",
   "metadata": {},
   "outputs": [
    {
     "name": "stdout",
     "output_type": "stream",
     "text": [
      "Traceback (most recent call last):\r\n",
      "  File \"pose-estimate.py\", line 168, in <module>\r\n",
      "    strip_optimizer(opt.device,opt.poseweights)\r\n",
      "  File \"/home/aarav/Project_s/Yolo_new/yolov7-pose-estimation/utils/general.py\", line 797, in strip_optimizer\r\n",
      "    x = torch.load(f, map_location=torch.device('cpu'))\r\n",
      "  File \"/home/aarav/anaconda3/envs/new_gpu/lib/python3.7/site-packages/torch/serialization.py\", line 594, in load\r\n",
      "    with _open_file_like(f, 'rb') as opened_file:\r\n",
      "  File \"/home/aarav/anaconda3/envs/new_gpu/lib/python3.7/site-packages/torch/serialization.py\", line 230, in _open_file_like\r\n",
      "    return _open_file(name_or_buffer, mode)\r\n",
      "  File \"/home/aarav/anaconda3/envs/new_gpu/lib/python3.7/site-packages/torch/serialization.py\", line 211, in __init__\r\n",
      "    super(_open_file, self).__init__(open(name, mode))\r\n",
      "FileNotFoundError: [Errno 2] No such file or directory: 'yolov7-w6-pose.pt'\r\n"
     ]
    }
   ],
   "source": [
    "!python pose-estimate.py --source 0"
   ]
  },
  {
   "cell_type": "code",
   "execution_count": null,
   "id": "e07d6e3a",
   "metadata": {},
   "outputs": [],
   "source": []
  }
 ],
 "metadata": {
  "kernelspec": {
   "display_name": "Python 3 (ipykernel)",
   "language": "python",
   "name": "python3"
  },
  "language_info": {
   "codemirror_mode": {
    "name": "ipython",
    "version": 3
   },
   "file_extension": ".py",
   "mimetype": "text/x-python",
   "name": "python",
   "nbconvert_exporter": "python",
   "pygments_lexer": "ipython3",
   "version": "3.7.13"
  }
 },
 "nbformat": 4,
 "nbformat_minor": 5
}
